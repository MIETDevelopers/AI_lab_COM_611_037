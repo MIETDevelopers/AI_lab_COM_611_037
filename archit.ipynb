{
 "cells": [
  {
   "cell_type": "markdown",
   "id": "af4a78c7",
   "metadata": {},
   "source": [
    "# Python"
   ]
  },
  {
   "cell_type": "code",
   "execution_count": 4,
   "id": "041a1986",
   "metadata": {},
   "outputs": [
    {
     "name": "stdout",
     "output_type": "stream",
     "text": [
      "hello world\n"
     ]
    }
   ],
   "source": [
    "print(\"hello world\")"
   ]
  },
  {
   "cell_type": "code",
   "execution_count": 5,
   "id": "e3e4422e",
   "metadata": {},
   "outputs": [
    {
     "name": "stdout",
     "output_type": "stream",
     "text": [
      "30\n"
     ]
    }
   ],
   "source": [
    "x = 10\n",
    "y = 20\n",
    "print(x+y)"
   ]
  },
  {
   "cell_type": "code",
   "execution_count": 6,
   "id": "9dd800db",
   "metadata": {},
   "outputs": [
    {
     "data": {
      "text/plain": [
       "800"
      ]
     },
     "execution_count": 6,
     "metadata": {},
     "output_type": "execute_result"
    }
   ],
   "source": [
    "40 * 20"
   ]
  },
  {
   "cell_type": "code",
   "execution_count": 7,
   "id": "e6b12581",
   "metadata": {},
   "outputs": [
    {
     "name": "stdout",
     "output_type": "stream",
     "text": [
      "input a no20\n",
      "20\n"
     ]
    }
   ],
   "source": [
    "print(input(\"input a no\"))"
   ]
  },
  {
   "cell_type": "code",
   "execution_count": 8,
   "id": "eb393b84",
   "metadata": {},
   "outputs": [
    {
     "name": "stdout",
     "output_type": "stream",
     "text": [
      "0\n",
      "1\n",
      "2\n",
      "3\n",
      "4\n",
      "5\n",
      "6\n",
      "7\n",
      "8\n",
      "9\n",
      "10\n",
      "11\n",
      "12\n",
      "13\n",
      "14\n",
      "15\n",
      "16\n",
      "17\n",
      "18\n",
      "19\n",
      "20\n",
      "21\n",
      "22\n",
      "23\n",
      "24\n",
      "25\n",
      "26\n",
      "27\n",
      "28\n",
      "29\n"
     ]
    }
   ],
   "source": [
    "for i in range(30):\n",
    "    print(i)\n",
    "    "
   ]
  },
  {
   "cell_type": "markdown",
   "id": "5b179189",
   "metadata": {},
   "source": [
    "\"\"\"\n",
    "this is a comment\n",
    "\"\"\""
   ]
  },
  {
   "cell_type": "code",
   "execution_count": 10,
   "id": "9196033f",
   "metadata": {},
   "outputs": [
    {
     "name": "stdout",
     "output_type": "stream",
     "text": [
      "1\n",
      "2\n",
      "3\n",
      "4\n",
      "5\n",
      "6\n",
      "7\n",
      "8\n",
      "9\n"
     ]
    }
   ],
   "source": [
    "lst = [1,2,3,4,5,6,7,8,9]\n",
    "for i in lst:\n",
    "    print(i)"
   ]
  },
  {
   "cell_type": "markdown",
   "id": "7f1770bd",
   "metadata": {},
   "source": [
    "### data types "
   ]
  },
  {
   "cell_type": "code",
   "execution_count": 12,
   "id": "3575d4df",
   "metadata": {},
   "outputs": [
    {
     "name": "stdout",
     "output_type": "stream",
     "text": [
      "<class 'int'>\n"
     ]
    }
   ],
   "source": [
    "print(type(20))"
   ]
  },
  {
   "cell_type": "code",
   "execution_count": 13,
   "id": "bd6492c1",
   "metadata": {},
   "outputs": [
    {
     "name": "stdout",
     "output_type": "stream",
     "text": [
      "<class 'float'>\n"
     ]
    }
   ],
   "source": [
    "print(type(20.60))"
   ]
  },
  {
   "cell_type": "code",
   "execution_count": 14,
   "id": "6e509808",
   "metadata": {},
   "outputs": [
    {
     "name": "stdout",
     "output_type": "stream",
     "text": [
      "<class 'str'>\n"
     ]
    }
   ],
   "source": [
    "print(type('a'))"
   ]
  },
  {
   "cell_type": "code",
   "execution_count": 15,
   "id": "202c874d",
   "metadata": {},
   "outputs": [
    {
     "name": "stdout",
     "output_type": "stream",
     "text": [
      "<class 'list'>\n"
     ]
    }
   ],
   "source": [
    "print(type([1,2,3,4,5,6,7,5,4,6,4,6,67,8]))"
   ]
  },
  {
   "cell_type": "code",
   "execution_count": 16,
   "id": "362769f2",
   "metadata": {},
   "outputs": [
    {
     "name": "stdout",
     "output_type": "stream",
     "text": [
      "<class 'set'>\n"
     ]
    }
   ],
   "source": [
    "print(type({1,2,3,5,6}))"
   ]
  },
  {
   "cell_type": "code",
   "execution_count": 17,
   "id": "6bdb90a3",
   "metadata": {},
   "outputs": [
    {
     "name": "stdout",
     "output_type": "stream",
     "text": [
      "<class 'dict'>\n"
     ]
    }
   ],
   "source": [
    "print(type({\"key\":\"value\"}))"
   ]
  },
  {
   "cell_type": "code",
   "execution_count": 18,
   "id": "8661117a",
   "metadata": {},
   "outputs": [
    {
     "name": "stdout",
     "output_type": "stream",
     "text": [
      "<class 'tuple'>\n"
     ]
    }
   ],
   "source": [
    "print(type((1,2,3)))"
   ]
  },
  {
   "cell_type": "markdown",
   "id": "a951e02d",
   "metadata": {},
   "source": [
    "# list"
   ]
  },
  {
   "cell_type": "code",
   "execution_count": 20,
   "id": "bf65d701",
   "metadata": {},
   "outputs": [
    {
     "name": "stdout",
     "output_type": "stream",
     "text": [
      "[2, 3, 2, 2, 4, 12, 3, 5]\n",
      "<class 'list'>\n"
     ]
    }
   ],
   "source": [
    "\"\"\"\n",
    "A list is a contigious data type \n",
    "\"\"\"\n",
    "\n",
    "x= [2,3,2,2,4,12,3,5]\n",
    "print(x)\n",
    "print(type(x))"
   ]
  },
  {
   "cell_type": "code",
   "execution_count": 22,
   "id": "8319b199",
   "metadata": {},
   "outputs": [
    {
     "name": "stdout",
     "output_type": "stream",
     "text": [
      "2\n",
      "3\n",
      "2\n",
      "2\n",
      "4\n",
      "12\n",
      "3\n",
      "5\n"
     ]
    }
   ],
   "source": [
    "for i in x:\n",
    "    print(i)"
   ]
  },
  {
   "cell_type": "code",
   "execution_count": 26,
   "id": "01291f8c",
   "metadata": {},
   "outputs": [
    {
     "name": "stdout",
     "output_type": "stream",
     "text": [
      "[2, 3, 2, 2, 4, 12, 3, 5, 40, 40, 40, 40]\n"
     ]
    }
   ],
   "source": [
    "# to add an element to list\n",
    "x.append(40)\n",
    "print(x)"
   ]
  },
  {
   "cell_type": "code",
   "execution_count": 29,
   "id": "b2ae10f1",
   "metadata": {},
   "outputs": [
    {
     "name": "stdout",
     "output_type": "stream",
     "text": [
      "[2, 3, 2, 2, 4, 12, 3, 5, 40, 40]\n"
     ]
    }
   ],
   "source": [
    "# to remove something \n",
    "x.remove(40)\n",
    "print(x)"
   ]
  },
  {
   "cell_type": "code",
   "execution_count": 30,
   "id": "99bc3250",
   "metadata": {},
   "outputs": [
    {
     "data": {
      "text/plain": [
       "40"
      ]
     },
     "execution_count": 30,
     "metadata": {},
     "output_type": "execute_result"
    }
   ],
   "source": [
    "# to pop an element \n",
    "x.pop()"
   ]
  },
  {
   "cell_type": "code",
   "execution_count": 31,
   "id": "c5ef5991",
   "metadata": {},
   "outputs": [
    {
     "name": "stdout",
     "output_type": "stream",
     "text": [
      "[898989, 2, 3, 2, 2, 4, 12, 3, 5, 40]\n"
     ]
    }
   ],
   "source": [
    "# to insert an element on an index\n",
    "x.insert(0,898989)\n",
    "print(x)"
   ]
  },
  {
   "cell_type": "code",
   "execution_count": 35,
   "id": "700cd8c0",
   "metadata": {},
   "outputs": [
    {
     "name": "stdout",
     "output_type": "stream",
     "text": [
      "[898989, 2, 3, 2, 2, 4, 12, 3, 5, 40, 's', 'g']\n"
     ]
    }
   ],
   "source": [
    "# to add list\n",
    "lst = ['s','g']\n",
    "x.extend(lst)\n",
    "print(x)"
   ]
  },
  {
   "cell_type": "code",
   "execution_count": 33,
   "id": "53de54f7",
   "metadata": {},
   "outputs": [
    {
     "name": "stdout",
     "output_type": "stream",
     "text": [
      "2\n"
     ]
    }
   ],
   "source": [
    "# subscript\n",
    "print(x[3])\n"
   ]
  },
  {
   "cell_type": "code",
   "execution_count": 34,
   "id": "9acc9213",
   "metadata": {},
   "outputs": [
    {
     "name": "stdout",
     "output_type": "stream",
     "text": [
      "[40, 5, 3, 12, 4, 2, 2, 3, 2, 898989]\n"
     ]
    }
   ],
   "source": [
    "# slicing to reverse the list\n",
    "print(x[-1::-1])"
   ]
  },
  {
   "cell_type": "markdown",
   "id": "a6126ca4",
   "metadata": {},
   "source": [
    "# Dictonary"
   ]
  },
  {
   "cell_type": "code",
   "execution_count": 36,
   "id": "66b1332c",
   "metadata": {},
   "outputs": [
    {
     "name": "stdout",
     "output_type": "stream",
     "text": [
      "{'name': 'archit'}\n",
      "<class 'dict'>\n"
     ]
    }
   ],
   "source": [
    "\"\"\"\n",
    "A dictonary is a data type having key value pairs\n",
    "\"\"\"\n",
    "\n",
    "y = {\n",
    "    \"name\":\"archit\"\n",
    "}\n",
    "print(y)\n",
    "print(type(y))"
   ]
  },
  {
   "cell_type": "code",
   "execution_count": 37,
   "id": "3a2984aa",
   "metadata": {},
   "outputs": [
    {
     "name": "stdout",
     "output_type": "stream",
     "text": [
      "archit\n"
     ]
    }
   ],
   "source": [
    "# to access a value \n",
    "print(y[\"name\"])"
   ]
  },
  {
   "cell_type": "code",
   "execution_count": 38,
   "id": "d2449881",
   "metadata": {},
   "outputs": [
    {
     "name": "stdout",
     "output_type": "stream",
     "text": [
      "{'name': 'archit', 'sem': 6}\n"
     ]
    }
   ],
   "source": [
    "# to add a new value to the dictonary\n",
    "y[\"sem\"] = 6\n",
    "print(y)"
   ]
  },
  {
   "cell_type": "code",
   "execution_count": 43,
   "id": "e1415008",
   "metadata": {},
   "outputs": [
    {
     "name": "stdout",
     "output_type": "stream",
     "text": [
      "{'name': 'archit', 'sem': 6, 'branch': 'cse'}\n"
     ]
    }
   ],
   "source": [
    "# function to add new value using function\n",
    "y.update({\"branch\":\"cse\"})\n",
    "print(y)"
   ]
  },
  {
   "cell_type": "code",
   "execution_count": 46,
   "id": "1e1d08c5",
   "metadata": {},
   "outputs": [
    {
     "name": "stdout",
     "output_type": "stream",
     "text": [
      "['name', 'sem', 'branch']\n"
     ]
    }
   ],
   "source": [
    "# to get all the keys of a dict\n",
    "kys = y.keys()\n",
    "print(list(kys))"
   ]
  },
  {
   "cell_type": "code",
   "execution_count": 47,
   "id": "1fd2147b",
   "metadata": {},
   "outputs": [
    {
     "name": "stdout",
     "output_type": "stream",
     "text": [
      "[('name', 'archit'), ('sem', 6), ('branch', 'cse')]\n"
     ]
    }
   ],
   "source": [
    "# to get all the items in a dict\n",
    "itms = y.items()\n",
    "print(list(itms))"
   ]
  },
  {
   "cell_type": "code",
   "execution_count": 48,
   "id": "b9a3aa88",
   "metadata": {},
   "outputs": [
    {
     "name": "stdout",
     "output_type": "stream",
     "text": [
      "['archit', 6, 'cse']\n"
     ]
    }
   ],
   "source": [
    "# to get all the values in a dict\n",
    "vals = y.values()\n",
    "print(list(vals))"
   ]
  },
  {
   "cell_type": "code",
   "execution_count": 50,
   "id": "0a61ffd2",
   "metadata": {},
   "outputs": [
    {
     "data": {
      "text/plain": [
       "'archit'"
      ]
     },
     "execution_count": 50,
     "metadata": {},
     "output_type": "execute_result"
    }
   ],
   "source": [
    "# to pop an item \n",
    "y.pop(\"name\")"
   ]
  },
  {
   "cell_type": "code",
   "execution_count": 51,
   "id": "330ecd0a",
   "metadata": {},
   "outputs": [
    {
     "data": {
      "text/plain": [
       "('branch', 'cse')"
      ]
     },
     "execution_count": 51,
     "metadata": {},
     "output_type": "execute_result"
    }
   ],
   "source": [
    "# to pop the last item in a dict\n",
    "y.popitem()"
   ]
  },
  {
   "cell_type": "code",
   "execution_count": 55,
   "id": "04ac3dd4",
   "metadata": {},
   "outputs": [
    {
     "name": "stdout",
     "output_type": "stream",
     "text": [
      "sem:6\n"
     ]
    }
   ],
   "source": [
    "# to print a dict using for loop \n",
    "\n",
    "for kys in y:\n",
    "    print(kys,end=\":\")\n",
    "    print(y[kys])"
   ]
  },
  {
   "cell_type": "markdown",
   "id": "51877b82",
   "metadata": {},
   "source": [
    "# Tuple "
   ]
  },
  {
   "cell_type": "code",
   "execution_count": 56,
   "id": "4eea1296",
   "metadata": {},
   "outputs": [
    {
     "name": "stdout",
     "output_type": "stream",
     "text": [
      "(34, 54, 3, 5, 3, 54, 3, 5, 6, 78, 78, 65, 23)\n",
      "<class 'tuple'>\n"
     ]
    }
   ],
   "source": [
    "\"\"\"\n",
    "A tuple is a data type similar to list but not mutable\n",
    "\"\"\"\n",
    "\n",
    "t = (34,54,3,5,3,54,3,5,6,78,78,65,23)\n",
    "print(t)\n",
    "print(type(t))"
   ]
  },
  {
   "cell_type": "code",
   "execution_count": 57,
   "id": "250024d3",
   "metadata": {},
   "outputs": [
    {
     "name": "stdout",
     "output_type": "stream",
     "text": [
      "34\n"
     ]
    }
   ],
   "source": [
    "# to acess a element usng index\n",
    "\n",
    "print(t[0])"
   ]
  },
  {
   "cell_type": "code",
   "execution_count": 58,
   "id": "40ee5259",
   "metadata": {},
   "outputs": [
    {
     "name": "stdout",
     "output_type": "stream",
     "text": [
      "(23, 65, 78, 78, 6, 5, 3, 54, 3, 5, 3, 54, 34)\n"
     ]
    }
   ],
   "source": [
    "# slicing \n",
    "print(t[-1::-1])"
   ]
  },
  {
   "cell_type": "code",
   "execution_count": 59,
   "id": "e54b6eb9",
   "metadata": {},
   "outputs": [
    {
     "name": "stdout",
     "output_type": "stream",
     "text": [
      "34\n",
      "54\n",
      "3\n",
      "5\n",
      "3\n",
      "54\n",
      "3\n",
      "5\n",
      "6\n",
      "78\n",
      "78\n",
      "65\n",
      "23\n"
     ]
    }
   ],
   "source": [
    "# to acess all elements using for loop\n",
    "for i in t:\n",
    "    print(i)"
   ]
  },
  {
   "cell_type": "markdown",
   "id": "f9bbe7e1",
   "metadata": {},
   "source": [
    "# Looping "
   ]
  },
  {
   "cell_type": "markdown",
   "id": "12c8bf1a",
   "metadata": {},
   "source": [
    "there are three loops in python \n",
    "1. for loop \n",
    "2. while loop \n",
    "3. for each loop"
   ]
  },
  {
   "cell_type": "markdown",
   "id": "00f65eea",
   "metadata": {},
   "source": [
    "## for loop "
   ]
  },
  {
   "cell_type": "code",
   "execution_count": 61,
   "id": "03a7e485",
   "metadata": {},
   "outputs": [
    {
     "name": "stdout",
     "output_type": "stream",
     "text": [
      "0\n",
      "1\n",
      "2\n",
      "3\n",
      "4\n",
      "5\n",
      "6\n",
      "7\n",
      "8\n",
      "9\n",
      "10\n",
      "11\n",
      "12\n",
      "13\n",
      "14\n",
      "15\n",
      "16\n",
      "17\n",
      "18\n",
      "19\n",
      "20\n",
      "21\n",
      "22\n",
      "23\n",
      "24\n",
      "25\n",
      "26\n",
      "27\n",
      "28\n",
      "29\n"
     ]
    }
   ],
   "source": [
    "for i in range(30):\n",
    "    print(i)"
   ]
  },
  {
   "cell_type": "markdown",
   "id": "b4c55f2c",
   "metadata": {},
   "source": [
    "## while loop "
   ]
  },
  {
   "cell_type": "code",
   "execution_count": 62,
   "id": "081fca92",
   "metadata": {},
   "outputs": [
    {
     "name": "stdout",
     "output_type": "stream",
     "text": [
      "9\n",
      "8\n",
      "7\n",
      "6\n",
      "5\n",
      "4\n",
      "3\n",
      "2\n",
      "1\n",
      "0\n"
     ]
    }
   ],
   "source": [
    "i = 10\n",
    "while i>0:\n",
    "    i-=1\n",
    "    print(i)"
   ]
  },
  {
   "cell_type": "markdown",
   "id": "97a05c6b",
   "metadata": {},
   "source": [
    "## for each loop "
   ]
  },
  {
   "cell_type": "code",
   "execution_count": 64,
   "id": "70d55f13",
   "metadata": {},
   "outputs": [
    {
     "name": "stdout",
     "output_type": "stream",
     "text": [
      "1\n",
      "2\n",
      "3\n",
      "3\n",
      "4\n",
      "3\n",
      "2\n",
      "2\n",
      "4\n",
      "23\n",
      "23\n"
     ]
    }
   ],
   "source": [
    "x = [1,2,3,3,4,3,2,2,4,23,23]\n",
    "for i in x :\n",
    "    print(i)"
   ]
  },
  {
   "cell_type": "markdown",
   "id": "662426f8",
   "metadata": {},
   "source": [
    "# If statements "
   ]
  },
  {
   "cell_type": "markdown",
   "id": "48a6a8b7",
   "metadata": {},
   "source": [
    "\n",
    "1. If statements\n",
    "2. If else statements \n",
    "3. if elif else statements\n"
   ]
  },
  {
   "cell_type": "code",
   "execution_count": 66,
   "id": "526be3bc",
   "metadata": {},
   "outputs": [
    {
     "name": "stdout",
     "output_type": "stream",
     "text": [
      "it is true \n"
     ]
    }
   ],
   "source": [
    "# if statements \n",
    "if True:\n",
    "    print(\"it is true \")"
   ]
  },
  {
   "cell_type": "code",
   "execution_count": 67,
   "id": "a0913b13",
   "metadata": {},
   "outputs": [
    {
     "name": "stdout",
     "output_type": "stream",
     "text": [
      "else\n"
     ]
    }
   ],
   "source": [
    "# if else statements \n",
    "if False:\n",
    "    print(\"if\")\n",
    "else:\n",
    "    print(\"else\")\n",
    "    "
   ]
  },
  {
   "cell_type": "code",
   "execution_count": 68,
   "id": "d6e05ce7",
   "metadata": {},
   "outputs": [
    {
     "name": "stdout",
     "output_type": "stream",
     "text": [
      "elif\n"
     ]
    }
   ],
   "source": [
    "# if elif statements\n",
    "if False:\n",
    "    print(\"if\")\n",
    "elif True:\n",
    "    print(\"elif\")\n",
    "else:\n",
    "    print(\"else\")"
   ]
  },
  {
   "cell_type": "markdown",
   "id": "ce727585",
   "metadata": {},
   "source": [
    "# functions"
   ]
  },
  {
   "cell_type": "code",
   "execution_count": 69,
   "id": "fd14baa5",
   "metadata": {},
   "outputs": [
    {
     "name": "stdout",
     "output_type": "stream",
     "text": [
      "i am called\n"
     ]
    }
   ],
   "source": [
    "\"\"\"\n",
    "a function is a block of callable code\n",
    "\"\"\"\n",
    "def x():\n",
    "    print(\"i am called\")\n",
    "x()"
   ]
  },
  {
   "cell_type": "code",
   "execution_count": 70,
   "id": "1ce5d09b",
   "metadata": {},
   "outputs": [
    {
     "name": "stdout",
     "output_type": "stream",
     "text": [
      "hello\n"
     ]
    }
   ],
   "source": [
    "# function with paramenet\n",
    "\n",
    "def y(c):\n",
    "    print(c)\n",
    "y(\"hello\")"
   ]
  },
  {
   "cell_type": "code",
   "execution_count": 72,
   "id": "da3315bf",
   "metadata": {},
   "outputs": [
    {
     "name": "stdout",
     "output_type": "stream",
     "text": [
      "k j h rer "
     ]
    }
   ],
   "source": [
    "# functin with multiple args \n",
    "def g(*args):\n",
    "    for i in args:\n",
    "        print(i,end=\" \")\n",
    "g(\"k\",\"j\",\"h\",\"rer\")"
   ]
  },
  {
   "cell_type": "code",
   "execution_count": 73,
   "id": "cd84da71",
   "metadata": {},
   "outputs": [
    {
     "name": "stdout",
     "output_type": "stream",
     "text": [
      "archit\n",
      "6\n",
      "cse\n"
     ]
    }
   ],
   "source": [
    "# functions with multiple key args \n",
    "def h(**kawrgs):\n",
    "    for i in kawrgs:\n",
    "        print(kawrgs[i])\n",
    "        \n",
    "h(name=\"archit\",sem=\"6\",branch=\"cse\")"
   ]
  },
  {
   "cell_type": "code",
   "execution_count": 74,
   "id": "b97a63d7",
   "metadata": {},
   "outputs": [
    {
     "name": "stdout",
     "output_type": "stream",
     "text": [
      "16\n",
      "14\n"
     ]
    }
   ],
   "source": [
    "# function with default value\n",
    "def b(x,y=10):\n",
    "    return x+y\n",
    "print(b(6))\n",
    "print(b(6,8))"
   ]
  },
  {
   "cell_type": "code",
   "execution_count": null,
   "id": "01c058ce",
   "metadata": {},
   "outputs": [],
   "source": []
  }
 ],
 "metadata": {
  "kernelspec": {
   "display_name": "Python 3 (ipykernel)",
   "language": "python",
   "name": "python3"
  },
  "language_info": {
   "codemirror_mode": {
    "name": "ipython",
    "version": 3
   },
   "file_extension": ".py",
   "mimetype": "text/x-python",
   "name": "python",
   "nbconvert_exporter": "python",
   "pygments_lexer": "ipython3",
   "version": "3.9.12"
  }
 },
 "nbformat": 4,
 "nbformat_minor": 5
}
